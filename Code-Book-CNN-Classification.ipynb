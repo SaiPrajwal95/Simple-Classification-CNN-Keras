{
 "cells": [
  {
   "cell_type": "code",
   "execution_count": 1,
   "metadata": {},
   "outputs": [
    {
     "name": "stderr",
     "output_type": "stream",
     "text": [
      "Using TensorFlow backend.\n"
     ]
    }
   ],
   "source": [
    "import numpy as np\n",
    "import tensorflow as tf\n",
    "import keras"
   ]
  },
  {
   "cell_type": "code",
   "execution_count": 2,
   "metadata": {
    "collapsed": true
   },
   "outputs": [],
   "source": [
    "from keras.models import Sequential\n",
    "from keras.layers import Conv2D\n",
    "from keras.layers import MaxPooling2D\n",
    "from keras.layers import Flatten\n",
    "from keras.layers import Dense"
   ]
  },
  {
   "cell_type": "code",
   "execution_count": 3,
   "metadata": {
    "collapsed": true
   },
   "outputs": [],
   "source": [
    "# Initialising the CNN\n",
    "classifier = Sequential()\n",
    "\n",
    "# Step 1 - Convolution\n",
    "classifier.add(Conv2D(32, (3, 3), input_shape = (64, 64, 3), activation = 'relu'))\n",
    "#classifier.add(Conv2D(64, (3, 3), activation = 'relu'))\n",
    "# Step 2 - Pooling\n",
    "classifier.add(MaxPooling2D(pool_size = (2, 2)))\n",
    "\n",
    "classifier.add(Conv2D(32, (3, 3), activation = 'relu'))\n",
    "#classifier.add(Conv2D(64, (3, 3), activation = 'relu'))\n",
    "\n",
    "# Pooling again\n",
    "classifier.add(MaxPooling2D(pool_size = (2, 2)))\n",
    "\n",
    "# Step 3 - Flattening\n",
    "classifier.add(Flatten())\n",
    "\n",
    "# Step 4 - Full connection\n",
    "classifier.add(Dense(units = 128, activation = 'relu'))\n",
    "classifier.add(Dense(units = 1, activation = 'sigmoid'))"
   ]
  },
  {
   "cell_type": "code",
   "execution_count": 4,
   "metadata": {
    "collapsed": true
   },
   "outputs": [],
   "source": [
    "# Compiling the CNN\n",
    "classifier.compile(optimizer = 'adam', loss = 'binary_crossentropy', metrics = ['accuracy'])"
   ]
  },
  {
   "cell_type": "code",
   "execution_count": 5,
   "metadata": {
    "collapsed": true
   },
   "outputs": [],
   "source": [
    "from keras.preprocessing.image import ImageDataGenerator\n",
    "\n",
    "train_datagen = ImageDataGenerator(rescale = 1./255,\n",
    "                                   shear_range = 0.2,\n",
    "                                   zoom_range = 0.2,\n",
    "                                   horizontal_flip = True)\n",
    "\n",
    "test_datagen = ImageDataGenerator(rescale = 1./255)"
   ]
  },
  {
   "cell_type": "code",
   "execution_count": 6,
   "metadata": {},
   "outputs": [
    {
     "name": "stdout",
     "output_type": "stream",
     "text": [
      "Found 8000 images belonging to 2 classes.\n",
      "Found 2000 images belonging to 2 classes.\n"
     ]
    }
   ],
   "source": [
    "training_set = train_datagen.flow_from_directory('dataset/training_set',\n",
    "                                                 target_size = (64, 64),\n",
    "                                                 batch_size = 32,\n",
    "                                                 class_mode = 'binary')\n",
    "\n",
    "test_set = test_datagen.flow_from_directory('dataset/test_set',\n",
    "                                            target_size = (64, 64),\n",
    "                                            batch_size = 32,\n",
    "                                            class_mode = 'binary')"
   ]
  },
  {
   "cell_type": "code",
   "execution_count": 7,
   "metadata": {},
   "outputs": [
    {
     "name": "stdout",
     "output_type": "stream",
     "text": [
      "Epoch 1/25\n",
      "8000/8000 [==============================] - 1871s 234ms/step - loss: 0.3747 - acc: 0.8246 - val_loss: 0.5307 - val_acc: 0.8074\n",
      "Epoch 2/25\n",
      "8000/8000 [==============================] - 1868s 233ms/step - loss: 0.1502 - acc: 0.9400 - val_loss: 0.6673 - val_acc: 0.8171\n",
      "Epoch 3/25\n",
      "8000/8000 [==============================] - 1861s 233ms/step - loss: 0.0840 - acc: 0.9684 - val_loss: 0.8739 - val_acc: 0.8116\n",
      "Epoch 4/25\n",
      "8000/8000 [==============================] - 1856s 232ms/step - loss: 0.0627 - acc: 0.9775 - val_loss: 0.9284 - val_acc: 0.8197\n",
      "Epoch 5/25\n",
      "8000/8000 [==============================] - 1851s 231ms/step - loss: 0.0499 - acc: 0.9824 - val_loss: 0.9927 - val_acc: 0.8123\n",
      "Epoch 6/25\n",
      "8000/8000 [==============================] - 1859s 232ms/step - loss: 0.0415 - acc: 0.9854 - val_loss: 0.9824 - val_acc: 0.8223\n",
      "Epoch 7/25\n",
      "8000/8000 [==============================] - 1858s 232ms/step - loss: 0.0368 - acc: 0.9874 - val_loss: 1.0832 - val_acc: 0.8182\n",
      "Epoch 8/25\n",
      "8000/8000 [==============================] - 1869s 234ms/step - loss: 0.0323 - acc: 0.9890 - val_loss: 1.1041 - val_acc: 0.8134\n",
      "Epoch 9/25\n",
      "8000/8000 [==============================] - 1834s 229ms/step - loss: 0.0287 - acc: 0.9902 - val_loss: 1.0728 - val_acc: 0.8185\n",
      "Epoch 10/25\n",
      "8000/8000 [==============================] - 1832s 229ms/step - loss: 0.0255 - acc: 0.9911 - val_loss: 1.0519 - val_acc: 0.8272\n",
      "Epoch 11/25\n",
      "8000/8000 [==============================] - 1842s 230ms/step - loss: 0.0233 - acc: 0.9921 - val_loss: 1.0895 - val_acc: 0.8204\n",
      "Epoch 12/25\n",
      "8000/8000 [==============================] - 1842s 230ms/step - loss: 0.0213 - acc: 0.9930 - val_loss: 1.1847 - val_acc: 0.8146\n",
      "Epoch 13/25\n",
      "8000/8000 [==============================] - 1818s 227ms/step - loss: 0.0209 - acc: 0.9931 - val_loss: 1.1917 - val_acc: 0.8136\n",
      "Epoch 14/25\n",
      "8000/8000 [==============================] - 1655s 207ms/step - loss: 0.0201 - acc: 0.9934 - val_loss: 1.3418 - val_acc: 0.8042\n",
      "Epoch 15/25\n",
      "8000/8000 [==============================] - 1549s 194ms/step - loss: 0.0182 - acc: 0.9939 - val_loss: 1.2682 - val_acc: 0.8239\n",
      "Epoch 16/25\n",
      "8000/8000 [==============================] - 1532s 192ms/step - loss: 0.0172 - acc: 0.9944 - val_loss: 1.2804 - val_acc: 0.8116\n",
      "Epoch 17/25\n",
      "8000/8000 [==============================] - 1545s 193ms/step - loss: 0.0158 - acc: 0.9947 - val_loss: 1.2521 - val_acc: 0.8086\n",
      "Epoch 18/25\n",
      "8000/8000 [==============================] - 1570s 196ms/step - loss: 0.0158 - acc: 0.9947 - val_loss: 1.2811 - val_acc: 0.8152\n",
      "Epoch 19/25\n",
      "8000/8000 [==============================] - 1573s 197ms/step - loss: 0.0149 - acc: 0.9951 - val_loss: 1.2533 - val_acc: 0.8241\n",
      "Epoch 20/25\n",
      "8000/8000 [==============================] - 1607s 201ms/step - loss: 0.0146 - acc: 0.9951 - val_loss: 1.2548 - val_acc: 0.8186\n",
      "Epoch 21/25\n",
      "8000/8000 [==============================] - 1593s 199ms/step - loss: 0.0140 - acc: 0.9956 - val_loss: 1.3331 - val_acc: 0.8169\n",
      "Epoch 22/25\n",
      "8000/8000 [==============================] - 1601s 200ms/step - loss: 0.0139 - acc: 0.9957 - val_loss: 1.3891 - val_acc: 0.8121\n",
      "Epoch 23/25\n",
      "8000/8000 [==============================] - 1590s 199ms/step - loss: 0.0128 - acc: 0.9959 - val_loss: 1.3371 - val_acc: 0.8256\n",
      "Epoch 24/25\n",
      "8000/8000 [==============================] - 1640s 205ms/step - loss: 0.0123 - acc: 0.9959 - val_loss: 1.3822 - val_acc: 0.8195\n",
      "Epoch 25/25\n",
      "8000/8000 [==============================] - 1662s 208ms/step - loss: 0.0126 - acc: 0.9960 - val_loss: 1.3465 - val_acc: 0.8199\n"
     ]
    },
    {
     "data": {
      "text/plain": [
       "<keras.callbacks.History at 0x7f28740e5ac8>"
      ]
     },
     "execution_count": 7,
     "metadata": {},
     "output_type": "execute_result"
    }
   ],
   "source": [
    "classifier.fit_generator(training_set,\n",
    "                         steps_per_epoch = 8000,\n",
    "                         epochs = 25,\n",
    "                         validation_data = test_set,\n",
    "                         validation_steps = 2000)"
   ]
  },
  {
   "cell_type": "code",
   "execution_count": 28,
   "metadata": {
    "collapsed": true
   },
   "outputs": [],
   "source": [
    "from keras.preprocessing import image\n",
    "import numpy as np\n",
    "img_path = 'dataset/single_prediction/cat_or_dog_9.jpg'\n",
    "img = image.load_img(img_path, target_size=(64, 64))\n",
    "x = image.img_to_array(img)"
   ]
  },
  {
   "cell_type": "code",
   "execution_count": 29,
   "metadata": {},
   "outputs": [
    {
     "data": {
      "text/plain": [
       "(1, 64, 64, 3)"
      ]
     },
     "execution_count": 29,
     "metadata": {},
     "output_type": "execute_result"
    }
   ],
   "source": [
    "x = np.expand_dims(x, axis=0)\n",
    "x.shape"
   ]
  },
  {
   "cell_type": "code",
   "execution_count": 30,
   "metadata": {},
   "outputs": [
    {
     "name": "stdout",
     "output_type": "stream",
     "text": [
      "cat\n"
     ]
    }
   ],
   "source": [
    "preds = classifier.predict(x)\n",
    "training_set.class_indices\n",
    "if preds[0][0] == 1:\n",
    "    prediction = 'dog'\n",
    "else:\n",
    "    prediction = 'cat'\n",
    "print(prediction)"
   ]
  }
 ],
 "metadata": {
  "kernelspec": {
   "display_name": "Python 3",
   "language": "python",
   "name": "python3"
  },
  "language_info": {
   "codemirror_mode": {
    "name": "ipython",
    "version": 3
   },
   "file_extension": ".py",
   "mimetype": "text/x-python",
   "name": "python",
   "nbconvert_exporter": "python",
   "pygments_lexer": "ipython3",
   "version": "3.5.2"
  }
 },
 "nbformat": 4,
 "nbformat_minor": 2
}
