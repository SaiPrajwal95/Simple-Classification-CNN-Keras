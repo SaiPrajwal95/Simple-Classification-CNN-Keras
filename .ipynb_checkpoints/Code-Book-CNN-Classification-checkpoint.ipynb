{
 "cells": [
  {
   "cell_type": "markdown",
   "metadata": {},
   "source": [
    "# Training the Classifier model"
   ]
  },
  {
   "cell_type": "code",
   "execution_count": 1,
   "metadata": {},
   "outputs": [
    {
     "name": "stderr",
     "output_type": "stream",
     "text": [
      "Using TensorFlow backend.\n"
     ]
    }
   ],
   "source": [
    "import numpy as np\n",
    "import tensorflow as tf\n",
    "import keras"
   ]
  },
  {
   "cell_type": "code",
   "execution_count": 2,
   "metadata": {
    "collapsed": true
   },
   "outputs": [],
   "source": [
    "from keras.models import Sequential\n",
    "from keras.layers import Conv2D\n",
    "from keras.layers import MaxPooling2D\n",
    "from keras.layers import Flatten\n",
    "from keras.layers import Dense"
   ]
  },
  {
   "cell_type": "code",
   "execution_count": 3,
   "metadata": {},
   "outputs": [],
   "source": [
    "# Initialising the CNN\n",
    "classifier = Sequential()\n",
    "\n",
    "# Step 1 - Convolution\n",
    "classifier.add(Conv2D(32, (3, 3), input_shape = (64, 64, 3), activation = 'relu'))\n",
    "\n",
    "# Step 2 - Pooling\n",
    "classifier.add(MaxPooling2D(pool_size = (2, 2)))\n",
    "classifier.add(Conv2D(32, (3, 3), activation = 'relu'))\n",
    "\n",
    "# Pooling again\n",
    "classifier.add(MaxPooling2D(pool_size = (2, 2)))\n",
    "\n",
    "# Step 3 - Flattening\n",
    "classifier.add(Flatten())\n",
    "\n",
    "# Step 4 - Full connection\n",
    "classifier.add(Dense(units = 128, activation = 'relu'))\n",
    "classifier.add(Dense(units = 1, activation = 'sigmoid'))"
   ]
  },
  {
   "cell_type": "code",
   "execution_count": 4,
   "metadata": {
    "collapsed": true
   },
   "outputs": [],
   "source": [
    "# Compiling the CNN\n",
    "classifier.compile(optimizer = 'adam', loss = 'binary_crossentropy', metrics = ['accuracy'])"
   ]
  },
  {
   "cell_type": "code",
   "execution_count": 5,
   "metadata": {
    "collapsed": true
   },
   "outputs": [],
   "source": [
    "from keras.preprocessing.image import ImageDataGenerator\n",
    "\n",
    "train_datagen = ImageDataGenerator(rescale = 1./255,\n",
    "                                   shear_range = 0.2,\n",
    "                                   zoom_range = 0.2,\n",
    "                                   horizontal_flip = True)\n",
    "\n",
    "test_datagen = ImageDataGenerator(rescale = 1./255)"
   ]
  },
  {
   "cell_type": "code",
   "execution_count": 6,
   "metadata": {},
   "outputs": [
    {
     "name": "stdout",
     "output_type": "stream",
     "text": [
      "Found 8000 images belonging to 2 classes.\n",
      "Found 2000 images belonging to 2 classes.\n"
     ]
    }
   ],
   "source": [
    "training_set = train_datagen.flow_from_directory('dataset/training_set',\n",
    "                                                 target_size = (64, 64),\n",
    "                                                 batch_size = 32,\n",
    "                                                 class_mode = 'binary')\n",
    "\n",
    "test_set = test_datagen.flow_from_directory('dataset/test_set',\n",
    "                                            target_size = (64, 64),\n",
    "                                            batch_size = 32,\n",
    "                                            class_mode = 'binary')"
   ]
  },
  {
   "cell_type": "code",
   "execution_count": 7,
   "metadata": {},
   "outputs": [
    {
     "name": "stdout",
     "output_type": "stream",
     "text": [
      "Epoch 1/25\n",
      "8000/8000 [==============================] - 1899s 237ms/step - loss: 0.3637 - acc: 0.8299 - val_loss: 0.5152 - val_acc: 0.8214\n",
      "Epoch 2/25\n",
      "8000/8000 [==============================] - 1851s 231ms/step - loss: 0.1349 - acc: 0.9471 - val_loss: 0.7086 - val_acc: 0.8185\n",
      "Epoch 3/25\n",
      "8000/8000 [==============================] - 1872s 234ms/step - loss: 0.0749 - acc: 0.9724 - val_loss: 0.8534 - val_acc: 0.8154\n",
      "Epoch 4/25\n",
      "8000/8000 [==============================] - 1889s 236ms/step - loss: 0.0544 - acc: 0.9806 - val_loss: 0.9304 - val_acc: 0.8216\n",
      "Epoch 5/25\n",
      "8000/8000 [==============================] - 1905s 238ms/step - loss: 0.0441 - acc: 0.9847 - val_loss: 1.0071 - val_acc: 0.8187\n",
      "Epoch 6/25\n",
      "8000/8000 [==============================] - 1899s 237ms/step - loss: 0.0367 - acc: 0.9875 - val_loss: 1.0412 - val_acc: 0.8300\n",
      "Epoch 7/25\n",
      "8000/8000 [==============================] - 1892s 236ms/step - loss: 0.0325 - acc: 0.9889 - val_loss: 1.0727 - val_acc: 0.8160\n",
      "Epoch 8/25\n",
      "8000/8000 [==============================] - 1906s 238ms/step - loss: 0.0292 - acc: 0.9904 - val_loss: 1.1159 - val_acc: 0.8165\n",
      "Epoch 9/25\n",
      "8000/8000 [==============================] - 1919s 240ms/step - loss: 0.0250 - acc: 0.9914 - val_loss: 1.1621 - val_acc: 0.8141\n",
      "Epoch 10/25\n",
      "8000/8000 [==============================] - 1883s 235ms/step - loss: 0.0239 - acc: 0.9918 - val_loss: 1.1582 - val_acc: 0.8194\n",
      "Epoch 11/25\n",
      "8000/8000 [==============================] - 1920s 240ms/step - loss: 0.0213 - acc: 0.9930 - val_loss: 1.1568 - val_acc: 0.8270\n",
      "Epoch 12/25\n",
      "8000/8000 [==============================] - 1871s 234ms/step - loss: 0.0198 - acc: 0.9937 - val_loss: 1.1416 - val_acc: 0.8219\n",
      "Epoch 13/25\n",
      "8000/8000 [==============================] - 1885s 236ms/step - loss: 0.0188 - acc: 0.9938 - val_loss: 1.1518 - val_acc: 0.8311\n",
      "Epoch 14/25\n",
      "8000/8000 [==============================] - 1888s 236ms/step - loss: 0.0178 - acc: 0.9940 - val_loss: 1.1540 - val_acc: 0.8221\n",
      "Epoch 15/25\n",
      "8000/8000 [==============================] - 1856s 232ms/step - loss: 0.0164 - acc: 0.9946 - val_loss: 1.2402 - val_acc: 0.8224\n",
      "Epoch 16/25\n",
      "8000/8000 [==============================] - 1845s 231ms/step - loss: 0.0161 - acc: 0.9947 - val_loss: 1.1921 - val_acc: 0.8275\n",
      "Epoch 17/25\n",
      "8000/8000 [==============================] - 1845s 231ms/step - loss: 0.0151 - acc: 0.9951 - val_loss: 1.1184 - val_acc: 0.8261\n",
      "Epoch 18/25\n",
      "8000/8000 [==============================] - 1849s 231ms/step - loss: 0.0137 - acc: 0.9956 - val_loss: 1.2364 - val_acc: 0.8180\n",
      "Epoch 19/25\n",
      "8000/8000 [==============================] - 1860s 232ms/step - loss: 0.0142 - acc: 0.9955 - val_loss: 1.1862 - val_acc: 0.8280\n",
      "Epoch 20/25\n",
      "8000/8000 [==============================] - 1868s 234ms/step - loss: 0.0134 - acc: 0.9957 - val_loss: 1.2281 - val_acc: 0.8306\n",
      "Epoch 21/25\n",
      "8000/8000 [==============================] - 1846s 231ms/step - loss: 0.0125 - acc: 0.9962 - val_loss: 1.3179 - val_acc: 0.8189\n",
      "Epoch 22/25\n",
      "8000/8000 [==============================] - 1844s 230ms/step - loss: 0.0117 - acc: 0.9962 - val_loss: 1.2555 - val_acc: 0.8216\n",
      "Epoch 23/25\n",
      "8000/8000 [==============================] - 1829s 229ms/step - loss: 0.0123 - acc: 0.9961 - val_loss: 1.3629 - val_acc: 0.8250\n",
      "Epoch 24/25\n",
      "8000/8000 [==============================] - 1899s 237ms/step - loss: 0.0119 - acc: 0.9963 - val_loss: 1.3653 - val_acc: 0.8278\n",
      "Epoch 25/25\n",
      "8000/8000 [==============================] - 2006s 251ms/step - loss: 0.0119 - acc: 0.9964 - val_loss: 1.3225 - val_acc: 0.8227\n"
     ]
    },
    {
     "data": {
      "text/plain": [
       "<keras.callbacks.History at 0x7fbeae6c0c88>"
      ]
     },
     "execution_count": 7,
     "metadata": {},
     "output_type": "execute_result"
    }
   ],
   "source": [
    "classifier.fit_generator(training_set,\n",
    "                         steps_per_epoch = 8000,\n",
    "                         epochs = 25,\n",
    "                         validation_data = test_set,\n",
    "                         validation_steps = 2000)"
   ]
  }
 ],
 "metadata": {
  "kernelspec": {
   "display_name": "Python 3",
   "language": "python",
   "name": "python3"
  },
  "language_info": {
   "codemirror_mode": {
    "name": "ipython",
    "version": 3
   },
   "file_extension": ".py",
   "mimetype": "text/x-python",
   "name": "python",
   "nbconvert_exporter": "python",
   "pygments_lexer": "ipython3",
   "version": "3.5.2"
  }
 },
 "nbformat": 4,
 "nbformat_minor": 2
}
